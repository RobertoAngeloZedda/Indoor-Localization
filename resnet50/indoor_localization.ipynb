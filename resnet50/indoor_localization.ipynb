{
 "cells": [
  {
   "cell_type": "code",
   "execution_count": null,
   "metadata": {},
   "outputs": [],
   "source": [
    "import tensorflow as tf\n",
    "from tensorflow.keras.applications import ResNet50\n",
    "from tensorflow.keras.layers import GlobalAveragePooling2D, Flatten, Dense\n",
    "from tensorflow.keras.models import Model\n",
    "from tensorflow.keras.optimizers import Adam\n",
    "from tensorflow.keras.saving import load_model\n",
    "import numpy as np\n",
    "from Dataset import load_dataset, create_set"
   ]
  },
  {
   "cell_type": "code",
   "execution_count": null,
   "metadata": {},
   "outputs": [],
   "source": [
    "resnet = ResNet50(weights='imagenet', include_top=False, input_shape=(144, 256, 3))\n",
    "\n",
    "#resnet.summary()      # (None, 5, 8, 2048) last layer's output shape\n",
    "\n",
    "# adding custom layers\n",
    "custom_layers = resnet.output\n",
    "custom_layers = GlobalAveragePooling2D() (custom_layers)\n",
    "custom_layers = Flatten() (custom_layers)\n",
    "custom_layers = Dense(256, activation='relu') (custom_layers)\n",
    "custom_layers = Dense(8, activation='softmax') (custom_layers)\n",
    "\n",
    "network = Model(inputs=resnet.input, outputs=custom_layers)\n",
    "\n",
    "for layer in resnet.layers:\n",
    "    layer.trainable = False\n",
    "\n",
    "network.compile(optimizer=Adam(0.001), loss='categorical_crossentropy', metrics=['accuracy'])\n",
    "\n",
    "# cheking if everything is correct\n",
    "#network.summary(show_trainable=True)"
   ]
  },
  {
   "cell_type": "code",
   "execution_count": null,
   "metadata": {},
   "outputs": [],
   "source": [
    "dataset = load_dataset('./../dataset/new_dataset.csv', './../dataset/images/')"
   ]
  },
  {
   "cell_type": "code",
   "execution_count": null,
   "metadata": {},
   "outputs": [],
   "source": [
    "classes = [4] + [9+i for i in range(7)]\n",
    "x_train, y_train, remaining = create_set(dataset, classes, 500)\n",
    "\n",
    "print(x_train.shape, y_train.shape)"
   ]
  },
  {
   "cell_type": "code",
   "execution_count": null,
   "metadata": {},
   "outputs": [],
   "source": [
    "x_val, y_val, remaining2 = create_set(remaining, classes, 66)\n",
    "\n",
    "print(x_val.shape, y_val.shape)"
   ]
  },
  {
   "cell_type": "code",
   "execution_count": null,
   "metadata": {},
   "outputs": [],
   "source": [
    "x_test, y_test, _ = create_set(remaining2, classes, 66)\n",
    "\n",
    "print(x_test.shape, y_test.shape)"
   ]
  },
  {
   "cell_type": "code",
   "execution_count": null,
   "metadata": {},
   "outputs": [],
   "source": [
    "network.fit(x=x_train, y=y_train, \n",
    "            batch_size=16, epochs=15, \n",
    "            validation_data=(x_val, y_val))"
   ]
  },
  {
   "cell_type": "code",
   "execution_count": null,
   "metadata": {},
   "outputs": [],
   "source": [
    "count = 0\n",
    "for x, y in zip(x_test, y_test):\n",
    "    prediction = network.predict(x.reshape(1, 144, 256, 3))\n",
    "\n",
    "    print(f\"pred: {np.argmax(prediction)}, \\ttrue: {np.argmax(y)}\")\n",
    "    \n",
    "    if np.argmax(prediction) == np.argmax(y):\n",
    "        count += 1\n",
    "\n",
    "print(f'{count}/{len(x_test)} images classified correctly.')"
   ]
  },
  {
   "cell_type": "code",
   "execution_count": null,
   "metadata": {},
   "outputs": [],
   "source": [
    "# unfreeze last layers\n",
    "for layer in network.layers[-24:]:\n",
    "    layer.trainable = True\n",
    "\n",
    "# really small learning rate\n",
    "network.compile(optimizer=Adam(0.000001), loss='categorical_crossentropy', metrics=['accuracy'])\n",
    "\n",
    "# cheking if everything is correct\n",
    "#network.summary(show_trainable=True)"
   ]
  },
  {
   "cell_type": "code",
   "execution_count": null,
   "metadata": {},
   "outputs": [],
   "source": [
    "network.fit(x=x_train, y=y_train, \n",
    "            batch_size=16, epochs=20, \n",
    "            validation_data=(x_val, y_val))"
   ]
  },
  {
   "cell_type": "code",
   "execution_count": null,
   "metadata": {},
   "outputs": [],
   "source": [
    "network.save('finetune_2.keras')"
   ]
  },
  {
   "cell_type": "code",
   "execution_count": null,
   "metadata": {},
   "outputs": [],
   "source": [
    "network = load_model('finetune_2.keras')"
   ]
  }
 ],
 "metadata": {
  "kernelspec": {
   "display_name": ".venv",
   "language": "python",
   "name": "python3"
  },
  "language_info": {
   "codemirror_mode": {
    "name": "ipython",
    "version": 3
   },
   "file_extension": ".py",
   "mimetype": "text/x-python",
   "name": "python",
   "nbconvert_exporter": "python",
   "pygments_lexer": "ipython3",
   "version": "3.11.9"
  }
 },
 "nbformat": 4,
 "nbformat_minor": 2
}
