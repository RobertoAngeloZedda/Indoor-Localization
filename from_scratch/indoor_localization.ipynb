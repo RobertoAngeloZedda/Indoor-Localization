{
 "cells": [
  {
   "cell_type": "code",
   "execution_count": 1,
   "metadata": {},
   "outputs": [],
   "source": [
    "import numpy as np\n",
    "from Dataset import load_dataset, create_set\n",
    "\n",
    "from ConvolutionalRGB import ConvolutionalRGB\n",
    "from Activation import Activation\n",
    "from PoolingRGB import Pooling_maxRGB\n",
    "from Reshape import Reshape\n",
    "from Dense import Dense\n",
    "from Softmax import Softmax\n",
    "from Network import Network\n",
    "from Functions import ReLU, ReLU_derivative, tanh, tanh_derivative, mse, mse_derivative, sigmoid, sigmoid_derivative, binary_cross_entropy, binary_cross_entropy_derivative"
   ]
  },
  {
   "cell_type": "code",
   "execution_count": 2,
   "metadata": {},
   "outputs": [],
   "source": [
    "dataset = load_dataset('./../dataset/new_dataset.csv', './../dataset/images/')"
   ]
  },
  {
   "cell_type": "code",
   "execution_count": 6,
   "metadata": {},
   "outputs": [
    {
     "name": "stdout",
     "output_type": "stream",
     "text": [
      "(300, 144, 256, 3)\n",
      "(100, 2, 1)\n"
     ]
    }
   ],
   "source": [
    "classes = [0, 1]\n",
    "x_train, y_train, remaining  = create_set(dataset, classes, 150)\n",
    "x_test, y_test, remaining = create_set(remaining, classes, 50)\n",
    "\n",
    "print(x_train.shape)\n",
    "print(y_test.shape)"
   ]
  },
  {
   "cell_type": "code",
   "execution_count": null,
   "metadata": {},
   "outputs": [],
   "source": [
    "network = Network([\n",
    "    ConvolutionalRGB(input_shape=(1, 144, 256), kernel_size=3, depth=8),\n",
    "    Activation(ReLU, ReLU_derivative),\n",
    "    ConvolutionalRGB(input_shape=(8, 142, 254), kernel_size=5, depth=8),\n",
    "    Activation(ReLU, ReLU),\n",
    "    Pooling_maxRGB(input_shape=(8, 138, 250), kernel_shape=(2, 2), stride=(2, 2)),\n",
    "    \n",
    "    ConvolutionalRGB(input_shape=(8, 69, 125), kernel_size=3, depth=4),\n",
    "    Activation(ReLU, ReLU_derivative),\n",
    "    ConvolutionalRGB(input_shape=(4, 67, 123), kernel_size=5, depth=4),\n",
    "    Activation(ReLU, ReLU),\n",
    "    Reshape(input_shape=(4, 63, 119, 3), output_shape=(4 * 63 * 119 * 3, 1)),\n",
    "\n",
    "    Dense(4 * 63 * 119 * 3, 32),\n",
    "    Activation(ReLU, ReLU),\n",
    "    Dense(32, 2),\n",
    "    Activation(tanh, tanh_derivative)\n",
    "    #Softmax()\n",
    "])"
   ]
  },
  {
   "cell_type": "code",
   "execution_count": null,
   "metadata": {},
   "outputs": [],
   "source": [
    "network.train_stocastic(loss=mse, \n",
    "                        loss_derivative=mse_derivative, \n",
    "                        X=x_train, \n",
    "                        Y=y_train, \n",
    "                        epochs=2,\n",
    "                        batches=32,\n",
    "                        learning_rate=0.005, \n",
    "                        print_debug=True)"
   ]
  },
  {
   "cell_type": "code",
   "execution_count": null,
   "metadata": {},
   "outputs": [],
   "source": [
    "count = 0\n",
    "for x, y in zip(x_test, y_test):\n",
    "    prediction = network.predict(x)\n",
    "\n",
    "    print(f\"pred: {np.argmax(prediction)} ({prediction}), \\ttrue: {np.argmax(y)}\")\n",
    "    \n",
    "    if np.argmax(prediction) == np.argmax(y):\n",
    "        count += 1\n",
    "\n",
    "print(f'{count}/{len(x_test)} images classified correctly.')"
   ]
  }
 ],
 "metadata": {
  "kernelspec": {
   "display_name": ".venv",
   "language": "python",
   "name": "python3"
  },
  "language_info": {
   "codemirror_mode": {
    "name": "ipython",
    "version": 3
   },
   "file_extension": ".py",
   "mimetype": "text/x-python",
   "name": "python",
   "nbconvert_exporter": "python",
   "pygments_lexer": "ipython3",
   "version": "3.11.9"
  }
 },
 "nbformat": 4,
 "nbformat_minor": 2
}
