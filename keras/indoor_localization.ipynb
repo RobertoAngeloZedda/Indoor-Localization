{
 "cells": [
  {
   "cell_type": "code",
   "execution_count": null,
   "metadata": {},
   "outputs": [],
   "source": [
    "import numpy as np\n",
    "from PIL import Image\n",
    "from keras import Sequential, layers\n",
    "from Dataset import load_dataset, create_set\n",
    "from tensorflow.keras.saving import load_model"
   ]
  },
  {
   "cell_type": "code",
   "execution_count": null,
   "metadata": {},
   "outputs": [],
   "source": [
    "dataset = load_dataset('./../dataset/new_dataset.csv', './../dataset/images/')"
   ]
  },
  {
   "cell_type": "code",
   "execution_count": null,
   "metadata": {},
   "outputs": [],
   "source": [
    "classes = [i for i in range(8)]\n",
    "x_train, y_train, remaining  = create_set(dataset, classes, 200)\n",
    "x_val, y_val, remaining = create_set(remaining, classes, 25)\n",
    "x_test, y_test, remaining = create_set(remaining, classes, 25)\n",
    "\n",
    "print(x_train.shape, y_train.shape)\n",
    "print(x_val.shape, y_val.shape)\n",
    "print(x_test.shape, y_test.shape)"
   ]
  },
  {
   "cell_type": "code",
   "execution_count": null,
   "metadata": {},
   "outputs": [],
   "source": [
    "network = Sequential([\n",
    "    layers.Conv2D(filters=32, kernel_size=(3, 3), activation='relu', input_shape=(144, 256, 3)),\n",
    "    \n",
    "    layers.Conv2D(filters=32, kernel_size=(5, 5), activation='relu'),\n",
    "\n",
    "    layers.MaxPooling2D(pool_size=(2, 2), strides=(2, 2)),\n",
    "\n",
    "    layers.Conv2D(filters=16, kernel_size=(3, 3), activation='relu'),\n",
    "\n",
    "    layers.Conv2D(filters=16, kernel_size=(5, 5), activation='relu'),\n",
    "    \n",
    "    layers.Flatten(),\n",
    "\n",
    "    layers.Dense(64, activation = 'relu'),\n",
    "    layers.Dense(8, activation = 'softmax')\n",
    "])\n",
    "\n",
    "network.compile(optimizer='adam', loss='categorical_crossentropy')\n",
    "\n",
    "network.fit(x=x_train, y=y_train, \n",
    "            batch_size=16, epochs=7, \n",
    "            validation_data=(x_val, y_val))"
   ]
  },
  {
   "cell_type": "code",
   "execution_count": null,
   "metadata": {},
   "outputs": [],
   "source": [
    "count = 0\n",
    "for x, y in zip(x_test, y_test):\n",
    "    prediction = network.predict(x.reshape(1, 144, 256, 3))\n",
    "\n",
    "    print(f\"pred: {np.argmax(prediction)}, \\ttrue: {np.argmax(y)}\")\n",
    "    \n",
    "    if np.argmax(prediction) == np.argmax(y):\n",
    "        count += 1\n",
    "\n",
    "print(f'{count}/{len(x_test)} images classified correctly.')"
   ]
  },
  {
   "cell_type": "code",
   "execution_count": null,
   "metadata": {},
   "outputs": [],
   "source": [
    "network.save('keras.keras')"
   ]
  },
  {
   "cell_type": "code",
   "execution_count": null,
   "metadata": {},
   "outputs": [],
   "source": [
    "network = load_model('keras.keras')"
   ]
  },
  {
   "cell_type": "code",
   "execution_count": null,
   "metadata": {},
   "outputs": [],
   "source": [
    "network.get_config()"
   ]
  }
 ],
 "metadata": {
  "kernelspec": {
   "display_name": ".venv",
   "language": "python",
   "name": "python3"
  },
  "language_info": {
   "codemirror_mode": {
    "name": "ipython",
    "version": 3
   },
   "file_extension": ".py",
   "mimetype": "text/x-python",
   "name": "python",
   "nbconvert_exporter": "python",
   "pygments_lexer": "ipython3",
   "version": "3.11.9"
  }
 },
 "nbformat": 4,
 "nbformat_minor": 2
}
